{
  "nbformat": 4,
  "nbformat_minor": 0,
  "metadata": {
    "colab": {
      "provenance": [],
      "authorship_tag": "ABX9TyOGAv9qSgSKGoBFRId7KgKf",
      "include_colab_link": true
    },
    "kernelspec": {
      "name": "python3",
      "display_name": "Python 3"
    },
    "language_info": {
      "name": "python"
    }
  },
  "cells": [
    {
      "cell_type": "markdown",
      "metadata": {
        "id": "view-in-github",
        "colab_type": "text"
      },
      "source": [
        "<a href=\"https://colab.research.google.com/github/Hamid-Mofidi/The-Principles-of-Deep-Learning-Theory/blob/main/Ch.%202%3A%20Neural%20Networks/2.1_Func.%20Approximation.ipynb\" target=\"_parent\"><img src=\"https://colab.research.google.com/assets/colab-badge.svg\" alt=\"Open In Colab\"/></a>"
      ]
    },
    {
      "cell_type": "markdown",
      "source": [
        "## Chapter 2 -- Neural Networks\n",
        "\n",
        "In $§2.1$, we introduce the basic components of neural network architectures – neurons, activations, biases, weights, and layers – in order to define the multilayer perceptron (MLP), a simple model that is iteratively composed of these basic components.\n",
        "\n"
      ],
      "metadata": {
        "id": "BNbfk-4WpImD"
      }
    },
    {
      "cell_type": "code",
      "execution_count": null,
      "metadata": {
        "id": "1_9h-AKwpC20"
      },
      "outputs": [],
      "source": []
    }
  ]
}