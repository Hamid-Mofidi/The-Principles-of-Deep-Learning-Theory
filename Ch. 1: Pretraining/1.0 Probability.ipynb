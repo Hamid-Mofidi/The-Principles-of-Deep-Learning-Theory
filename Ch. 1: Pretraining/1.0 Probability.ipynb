{
  "nbformat": 4,
  "nbformat_minor": 0,
  "metadata": {
    "colab": {
      "provenance": [],
      "authorship_tag": "ABX9TyObQSpRR6FdgrMDo8ns/Rgs",
      "include_colab_link": true
    },
    "kernelspec": {
      "name": "python3",
      "display_name": "Python 3"
    },
    "language_info": {
      "name": "python"
    }
  },
  "cells": [
    {
      "cell_type": "markdown",
      "metadata": {
        "id": "view-in-github",
        "colab_type": "text"
      },
      "source": [
        "<a href=\"https://colab.research.google.com/github/Hamid-Mofidi/The-Principles-of-Deep-Learning-Theory/blob/main/Ch.%201%3A%20Pretraining/1.0%20Probability.ipynb\" target=\"_parent\"><img src=\"https://colab.research.google.com/assets/colab-badge.svg\" alt=\"Open In Colab\"/></a>"
      ]
    },
    {
      "cell_type": "markdown",
      "source": [
        "In multivariate statistics, the variance-covariance matrix (also known as the covariance matrix) is a matrix that summarizes the variances and covariances of a set of random variables. It is a square matrix where the diagonal elements are the variances of each variable, and the off-diagonal elements are the covariances between pairs of variables.\n",
        "\n",
        "For example, suppose we have a dataset with two variables, x and y, and we want to calculate the variance-covariance matrix. We can represent the dataset as a matrix X, where each row represents an observation, and each column represents a variable:\n",
        "\n",
        "```\n",
        "X = [x1, y1]\n",
        "    [x2, y2]\n",
        "    [x3, y3]\n",
        "    ...\n",
        "```\n",
        "\n",
        "The variance-covariance matrix for this dataset is:\n",
        "\n",
        "```\n",
        "[ Var(x)   Cov(x,y) ]\n",
        "[ Cov(x,y) Var(y)   ]\n",
        "```\n",
        "\n",
        "where Var(x) and Var(y) are the variances of x and y, respectively, and Cov(x,y) is the covariance between x and y.\n",
        "\n",
        "For example, suppose we have the following dataset:\n",
        "\n",
        "```\n",
        "X = [ 1,  2]\n",
        "    [ 3,  4]\n",
        "    [ 5,  6]\n",
        "```\n",
        "\n",
        "The mean of x is (1+3+5)/3 = 3, and the mean of y is (2+4+6)/3 = 4. The variances of x and y are:\n",
        "\n",
        "```\n",
        "Var(x) = ((1-3)^2 + (3-3)^2 + (5-3)^2)/3 = 4\n",
        "Var(y) = ((2-4)^2 + (4-4)^2 + (6-4)^2)/3 = 4\n",
        "```\n",
        "\n",
        "The covariance between x and y is:\n",
        "\n",
        "```\n",
        "Cov(x,y) = ((1-3)*(2-4) + (3-3)*(4-4) + (5-3)*(6-4))/3 = 2\n",
        "```\n",
        "\n",
        "Therefore, the variance-covariance matrix for this dataset is:\n",
        "\n",
        "```\n",
        "[ 4  2 ]\n",
        "[ 2  4 ]\n",
        "```\n",
        "\n",
        "This matrix summarizes the variances and covariances of the x and y variables in the dataset. The diagonal elements represent the variances of each variable, and the off-diagonal elements represent the covariances between pairs of variables."
      ],
      "metadata": {
        "id": "6SJf2vhuJOd1"
      }
    },
    {
      "cell_type": "code",
      "source": [],
      "metadata": {
        "id": "3gOUpQ0mJQga"
      },
      "execution_count": null,
      "outputs": []
    },
    {
      "cell_type": "code",
      "execution_count": null,
      "metadata": {
        "id": "yiqn7EWYJNaZ"
      },
      "outputs": [],
      "source": []
    }
  ]
}